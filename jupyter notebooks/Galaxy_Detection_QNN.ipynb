{
 "cells": [
  {
   "cell_type": "code",
   "execution_count": 1,
   "metadata": {},
   "outputs": [],
   "source": [
    "import random\n",
    "import numpy as np\n",
    "import matplotlib.pyplot as plt\n",
    "\n",
    "import sys\n",
    "sys.path.append('../Pyfiles')\n",
    "# Pull in the helper files.\n",
    "from ImageRead import *\n",
    "from QNN import *\n"
   ]
  },
  {
   "cell_type": "code",
   "execution_count": 2,
   "metadata": {},
   "outputs": [],
   "source": [
    "target_o = [1 for i in range(25)]+[0 for i in range(25)]"
   ]
  },
  {
   "cell_type": "code",
   "execution_count": 4,
   "metadata": {},
   "outputs": [],
   "source": [
    "pathY=r'../images/dataset/Original/galaxy/'\n",
    "pathN=r'../images/dataset/Original/No-galaxy/'\n",
    "nameN=''\n",
    "nameY=''\n",
    "# a1 = imageResize(callImage(5,pathY,nameY),16)\n",
    "# a2 = imageResize(callImage(29,pathY,nameY),16)\n",
    "# # plt.imshow(a1,cmap='gray')\n",
    "# plt.imshow(a2,cmap='gray')\n",
    "# plt.imshow(b1,cmap='gray')\n",
    "# plt.imshow(b2,cmap='gray')\n",
    "inputY=[imageResize(callImage(i+1,pathY,nameY),16) for i in range(25)]\n",
    "inputN=[imageResize(callImage(i+1,pathN,nameN),16) for i in range(25)]\n",
    "input_combine = inputY+inputN"
   ]
  },
  {
   "cell_type": "code",
   "execution_count": 5,
   "metadata": {},
   "outputs": [],
   "source": [
    "np.random.seed(0)\n",
    "idx=np.array([int(i) for i in range(50)]).flatten()\n",
    "\n",
    "np.random.shuffle(idx)\n",
    "\n",
    "dataInput = list(input_combine[i] for i in idx )\n",
    "dataTarget = list( imageBinarize(input_combine[i]) for i in idx )\n",
    "\n",
    "data_target_o=list( target_o[i] for i in idx )"
   ]
  },
  {
   "cell_type": "code",
   "execution_count": 6,
   "metadata": {},
   "outputs": [
    {
     "data": {
      "image/png": "[encoded data removed]",
      "text/plain": [
       "<Figure size 2000x600 with 10 Axes>"
      ]
     },
     "metadata": {},
     "output_type": "display_data"
    }
   ],
   "source": [
    "n_samples_show = 5\n",
    "fig, axes = plt.subplots(nrows=2, ncols=n_samples_show, figsize=(20, 6))\n",
    "\n",
    "for i in range(n_samples_show):\n",
    "\n",
    "    axes[0,i].imshow(dataInput[i], cmap='gray')\n",
    "    axes[0,i].set_xticks([])\n",
    "    axes[0,i].set_yticks([])\n",
    "    axes[1,i].imshow(dataInput[i+5], cmap='gray')\n",
    "    axes[1,i].set_xticks([])\n",
    "    axes[1,i].set_yticks([])    \n"
   ]
  },
  {
   "cell_type": "code",
   "execution_count": 7,
   "metadata": {},
   "outputs": [],
   "source": [
    "import numpy as np\n",
    "from qiskit.circuit.parameter import Parameter\n",
    "from qiskit import QuantumCircuit\n",
    "from qiskit.circuit.library import ZZFeatureMap, RealAmplitudes\n",
    "from qiskit_machine_learning.circuit.library import QNNCircuit\n",
    "from qiskit_machine_learning.neural_networks import SamplerQNN\n",
    "from qiskit_machine_learning.connectors import TorchConnector\n",
    "from torch.nn import Linear, CrossEntropyLoss, MSELoss\n",
    "from torch.optim import LBFGS, SGD, Adam\n",
    "from qiskit_machine_learning.algorithms.classifiers import NeuralNetworkClassifier, VQC\n",
    "\n",
    "# Define the parity function\n",
    "def parity(x):\n",
    "    return f\"{bin(x)}\".count(\"1\") % 2\n",
    "\n",
    "# Model for LBFGS\n",
    "np.random.seed(3)\n",
    "\n",
    "nqubits = 6\n",
    "num_inputs = 256\n",
    "qc = QuantumCircuit(nqubits)\n",
    "\n",
    "# Encoding\n",
    "param_x = []\n",
    "for i in range(num_inputs):\n",
    "    param_x.append(Parameter('x' + str(i)))\n",
    "for i in range(8):\n",
    "    param_x.append(np.pi / 2)\n",
    "\n",
    "# Assuming you have a function `encoding` defined elsewhere\n",
    "feature_map = encoding(qc, param_x, 22)\n",
    "\n",
    "# Optimizing circuit PQC\n",
    "param_y = []\n",
    "for i in range(nqubits * 2):\n",
    "    param_y.append(Parameter('θ' + str(i)))\n",
    "\n",
    "# Assuming you have a function `circuit15` defined elsewhere\n",
    "ansatz = circuit15(qc, param_y)\n",
    "\n",
    "# Compose the feature map and ansatz into the quantum circuit\n",
    "qc.append(feature_map, range(nqubits))\n",
    "qc.append(ansatz, range(nqubits))\n",
    "\n",
    "# Use SamplerQNN instead of CircuitQNN\n",
    "qnn2 = SamplerQNN(\n",
    "    circuit=qc,\n",
    "    input_params=feature_map.parameters,\n",
    "    weight_params=ansatz.parameters,\n",
    "    interpret=parity,\n",
    "    output_shape=2\n",
    ")\n",
    "\n",
    "# Initialize weights for the QNN\n",
    "initial_weights = 0.1 * (2 * np.random.rand(qnn2.num_weights) - 1)\n"
   ]
  },
  {
   "cell_type": "markdown",
   "metadata": {},
   "source": [
    "# Learning Rate 0.05"
   ]
  },
  {
   "cell_type": "code",
   "execution_count": 30,
   "metadata": {},
   "outputs": [],
   "source": [
    "# define optimizer and loss function\n",
    "\n",
    "model2 = TorchConnector(qnn2, initial_weights)\n",
    "\n",
    "optimizer = LBFGS(model2.parameters(),lr=0.05)\n",
    "f_loss = CrossEntropyLoss()\n",
    "\n",
    "X= [normlaizeData(dataInput[i].flatten()) for i in range(50)]\n",
    "y01= [data_target_o[i] for i in range(50)]"
   ]
  },
  {
   "cell_type": "code",
   "execution_count": 31,
   "metadata": {},
   "outputs": [
    {
     "name": "stdout",
     "output_type": "stream",
     "text": [
      "35.777549743652344\n",
      "35.66697692871094\n",
      "34.570335388183594\n",
      "33.22208786010742\n",
      "31.85173797607422\n",
      "30.984848022460938\n",
      "30.836833953857422\n",
      "30.748531341552734\n",
      "30.67437744140625\n",
      "30.61083984375\n",
      "30.556110382080078\n",
      "30.508686065673828\n",
      "30.467330932617188\n",
      "30.431076049804688\n",
      "30.399106979370117\n",
      "30.37078094482422\n",
      "30.34559440612793\n",
      "30.323108673095703\n",
      "30.302978515625\n",
      "30.28489875793457\n",
      "30.268648147583008\n",
      "30.25398826599121\n",
      "30.24076271057129\n",
      "30.22880744934082\n",
      "30.218000411987305\n",
      "30.208215713500977\n",
      "30.199356079101562\n",
      "30.19131851196289\n",
      "30.18404197692871\n",
      "30.177446365356445\n",
      "30.171466827392578\n",
      "30.166038513183594\n",
      "30.16112518310547\n",
      "30.156665802001953\n",
      "30.152629852294922\n",
      "30.148967742919922\n",
      "30.145654678344727\n",
      "30.142642974853516\n",
      "30.139923095703125\n",
      "30.137454986572266\n"
     ]
    },
    {
     "data": {
      "text/plain": [
       "tensor(30.2686, grad_fn=<AddBackward0>)"
      ]
     },
     "execution_count": 31,
     "metadata": {},
     "output_type": "execute_result"
    }
   ],
   "source": [
    "from torch import Tensor\n",
    "# start training\n",
    "\n",
    "model2.train()    # set model to training mode\n",
    "\n",
    "# define objective function\n",
    "def closure():\n",
    "    optimizer.zero_grad()                                  # initialize gradient\n",
    "    loss = 0.0                                             # initialize loss    \n",
    "    for x, y_target in zip(X, y01):                        # evaluate batch loss\n",
    "        output = model2(Tensor(x)).reshape(1, 2)           # forward pass\n",
    "        loss += f_loss(output, Tensor([y_target]).long())\n",
    "    loss.backward()                                        # backward pass\n",
    "    print(loss.item())                                     # print loss\n",
    "    return loss\n",
    "\n",
    "# run optimizer\n",
    "optimizer.step(closure)\n",
    "optimizer.step(closure)"
   ]
  },
  {
   "cell_type": "code",
   "execution_count": 15,
   "metadata": {},
   "outputs": [],
   "source": [
    "# define optimizer and loss function\n",
    "\n",
    "model2 = TorchConnector(qnn2, initial_weights)\n",
    "\n",
    "optimizer = LBFGS(model2.parameters(),lr=0.05)\n",
    "f_loss = CrossEntropyLoss()\n",
    "\n",
    "X= [normlaizeData(dataInput[i].flatten()) for i in range(50)]\n",
    "y01= [data_target_o[i] for i in range(50)]"
   ]
  },
  {
   "cell_type": "code",
   "execution_count": 16,
   "metadata": {},
   "outputs": [
    {
     "name": "stdout",
     "output_type": "stream",
     "text": [
      "35.64811325073242\n",
      "35.54372024536133\n",
      "34.583099365234375\n",
      "33.46548080444336\n",
      "34.92763137817383\n",
      "33.943382263183594\n",
      "33.3530387878418\n",
      "33.160621643066406\n",
      "32.918704986572266\n",
      "32.557430267333984\n",
      "32.2894172668457\n",
      "32.128395080566406\n",
      "32.01044845581055\n",
      "31.910511016845703\n",
      "31.814376831054688\n",
      "31.707338333129883\n",
      "31.57135009765625\n",
      "31.401521682739258\n",
      "31.247360229492188\n",
      "31.13759994506836\n",
      "31.060617446899414\n",
      "30.993940353393555\n",
      "30.934581756591797\n",
      "30.878589630126953\n",
      "30.827341079711914\n",
      "30.77460289001465\n",
      "30.718544006347656\n",
      "30.65656852722168\n",
      "30.589841842651367\n",
      "30.522985458374023\n",
      "30.46346092224121\n",
      "30.415023803710938\n",
      "30.37604522705078\n",
      "30.344024658203125\n",
      "30.316993713378906\n",
      "30.29376792907715\n",
      "30.273433685302734\n",
      "30.255414962768555\n",
      "30.239213943481445\n",
      "30.22450065612793\n"
     ]
    },
    {
     "data": {
      "text/plain": [
       "tensor(31.0606, grad_fn=<AddBackward0>)"
      ]
     },
     "execution_count": 16,
     "metadata": {},
     "output_type": "execute_result"
    }
   ],
   "source": [
    "from torch import Tensor\n",
    "# start training\n",
    "\n",
    "model2.train()    # set model to training mode\n",
    "\n",
    "# define objective function\n",
    "def closure():\n",
    "    optimizer.zero_grad()                                  # initialize gradient\n",
    "    loss = 0.0                                             # initialize loss    \n",
    "    for x, y_target in zip(X, y01):                        # evaluate batch loss\n",
    "        output = model2(Tensor(x)).reshape(1, 2)           # forward pass\n",
    "        loss += f_loss(output, Tensor([y_target]).long())\n",
    "    loss.backward()                                        # backward pass\n",
    "    print(loss.item())                                     # print loss\n",
    "    return loss\n",
    "\n",
    "# run optimizer\n",
    "optimizer.step(closure)\n",
    "optimizer.step(closure)"
   ]
  },
  {
   "cell_type": "code",
   "execution_count": 17,
   "metadata": {},
   "outputs": [
    {
     "name": "stdout",
     "output_type": "stream",
     "text": [
      "Accuracy: 0.86\n"
     ]
    }
   ],
   "source": [
    "# traning model accuracy\n",
    "y_predict = []\n",
    "for x in X:\n",
    "    output = model2(Tensor(x))\n",
    "    y_predict += [np.argmax(output.detach().numpy())]\n",
    "\n",
    "print('Accuracy:', sum(y_predict == np.array(y01))/len(np.array(y01)))"
   ]
  },
  {
   "cell_type": "markdown",
   "metadata": {},
   "source": [
    "# Learning rate 0.06"
   ]
  },
  {
   "cell_type": "code",
   "execution_count": 29,
   "metadata": {},
   "outputs": [
    {
     "name": "stdout",
     "output_type": "stream",
     "text": [
      "Accuracy: 0.5\n"
     ]
    }
   ],
   "source": [
    "# define optimizer and loss function\n",
    "from torch import Tensor\n",
    "model2 = TorchConnector(qnn2, initial_weights)\n",
    "\n",
    "optimizer = LBFGS(model2.parameters(),lr=0.0006)\n",
    "f_loss = CrossEntropyLoss()\n",
    "\n",
    "X= [normlaizeData(dataInput[i].flatten()) for i in range(50)]\n",
    "y01= [data_target_o[i] for i in range(50)]\n",
    "\n",
    "y_predict = []\n",
    "for x in X:\n",
    "    output = model2(Tensor(x))\n",
    "    y_predict += [np.argmax(output.detach().numpy())]\n",
    "\n",
    "print('Accuracy:', sum(y_predict == np.array(y01))/len(np.array(y01)))"
   ]
  },
  {
   "cell_type": "code",
   "execution_count": 27,
   "metadata": {},
   "outputs": [
    {
     "name": "stdout",
     "output_type": "stream",
     "text": [
      "35.777549743652344\n",
      "35.76658248901367\n",
      "35.66649627685547\n",
      "35.56280517578125\n",
      "35.4554328918457\n",
      "35.34437561035156\n",
      "35.22959518432617\n",
      "35.111106872558594\n",
      "34.98897933959961\n",
      "34.86327362060547\n",
      "34.73408508300781\n",
      "34.6015510559082\n",
      "34.465850830078125\n",
      "34.3271598815918\n",
      "34.18574523925781\n",
      "34.04186248779297\n",
      "33.89581298828125\n",
      "33.747947692871094\n",
      "33.59864807128906\n",
      "33.448341369628906\n",
      "33.297462463378906\n",
      "33.14649963378906\n",
      "31.910097122192383\n",
      "31.8469295501709\n",
      "31.813581466674805\n",
      "31.778547286987305\n",
      "31.74177360534668\n",
      "31.703874588012695\n",
      "31.665477752685547\n",
      "31.6272029876709\n",
      "31.589582443237305\n",
      "31.55307388305664\n",
      "31.517988204956055\n",
      "31.484527587890625\n",
      "31.452789306640625\n",
      "31.422805786132812\n",
      "31.394527435302734\n",
      "31.367900848388672\n",
      "31.34282112121582\n",
      "31.31919288635254\n"
     ]
    },
    {
     "data": {
      "text/plain": [
       "tensor(33.2975, grad_fn=<AddBackward0>)"
      ]
     },
     "execution_count": 27,
     "metadata": {},
     "output_type": "execute_result"
    }
   ],
   "source": [
    "from torch import Tensor\n",
    "# start training\n",
    "\n",
    "model2.train()    # set model to training mode\n",
    "\n",
    "# define objective function\n",
    "def closure():\n",
    "    optimizer.zero_grad()                                  # initialize gradient\n",
    "    loss = 0.0                                             # initialize loss    \n",
    "    for x, y_target in zip(X, y01):                        # evaluate batch loss\n",
    "        output = model2(Tensor(x)).reshape(1, 2)           # forward pass\n",
    "        loss += f_loss(output, Tensor([y_target]).long())\n",
    "    loss.backward()                                        # backward pass\n",
    "    print(loss.item())                                     # print loss\n",
    "    return loss\n",
    "\n",
    "# run optimizer\n",
    "optimizer.step(closure)\n",
    "optimizer.step(closure)"
   ]
  },
  {
   "cell_type": "code",
   "execution_count": 28,
   "metadata": {},
   "outputs": [
    {
     "name": "stdout",
     "output_type": "stream",
     "text": [
      "Accuracy: 0.5\n"
     ]
    }
   ],
   "source": [
    "# traning model accuracy\n",
    "y_predict = []\n",
    "for x in X:\n",
    "    output = model2(Tensor(x))\n",
    "    y_predict += [np.argmax(output.detach().numpy())]\n",
    "\n",
    "print('Accuracy:', sum(y_predict == np.array(y01))/len(np.array(y01)))"
   ]
  },
  {
   "cell_type": "markdown",
   "metadata": {},
   "source": [
    "# Learning Rate 0.07"
   ]
  },
  {
   "cell_type": "code",
   "execution_count": 21,
   "metadata": {},
   "outputs": [
    {
     "name": "stdout",
     "output_type": "stream",
     "text": [
      "Accuracy: 0.5\n"
     ]
    }
   ],
   "source": [
    "# define optimizer and loss function\n",
    "from torch import Tensor\n",
    "model2 = TorchConnector(qnn2, initial_weights)\n",
    "\n",
    "optimizer = LBFGS(model2.parameters(),lr=0.07)\n",
    "f_loss = CrossEntropyLoss()\n",
    "\n",
    "X= [normlaizeData(dataInput[i].flatten()) for i in range(50)]\n",
    "y01= [data_target_o[i] for i in range(50)]\n",
    "\n",
    "y_predict = []\n",
    "for x in X:\n",
    "    output = model2(Tensor(x))\n",
    "    y_predict += [np.argmax(output.detach().numpy())]\n",
    "\n",
    "print('Accuracy:', sum(y_predict == np.array(y01))/len(np.array(y01)))"
   ]
  },
  {
   "cell_type": "code",
   "execution_count": 22,
   "metadata": {},
   "outputs": [
    {
     "name": "stdout",
     "output_type": "stream",
     "text": [
      "35.64811325073242\n",
      "35.50145721435547\n",
      "34.130165100097656\n",
      "32.58714294433594\n",
      "30.83588981628418\n",
      "30.67334747314453\n",
      "30.545894622802734\n",
      "30.412790298461914\n",
      "30.290376663208008\n",
      "30.187480926513672\n",
      "30.103849411010742\n",
      "30.03590965270996\n",
      "29.980018615722656\n",
      "29.933347702026367\n",
      "29.893814086914062\n",
      "29.859893798828125\n",
      "29.83043670654297\n",
      "29.80458641052246\n",
      "29.781648635864258\n",
      "29.761093139648438\n",
      "29.742490768432617\n",
      "29.72548484802246\n",
      "29.709779739379883\n",
      "29.695125579833984\n",
      "29.68130874633789\n",
      "29.668176651000977\n",
      "29.655567169189453\n",
      "29.64336395263672\n",
      "29.63149642944336\n",
      "29.619918823242188\n",
      "29.608671188354492\n",
      "29.597822189331055\n",
      "29.587520599365234\n",
      "29.577953338623047\n",
      "29.56929588317871\n",
      "29.561634063720703\n",
      "29.554969787597656\n",
      "29.54922103881836\n",
      "29.544267654418945\n",
      "29.53997039794922\n"
     ]
    },
    {
     "data": {
      "text/plain": [
       "tensor(29.7425, grad_fn=<AddBackward0>)"
      ]
     },
     "execution_count": 22,
     "metadata": {},
     "output_type": "execute_result"
    }
   ],
   "source": [
    "from torch import Tensor\n",
    "# start training\n",
    "\n",
    "model2.train()    # set model to training mode\n",
    "\n",
    "# define objective function\n",
    "def closure():\n",
    "    optimizer.zero_grad()                                  # initialize gradient\n",
    "    loss = 0.0                                             # initialize loss    \n",
    "    for x, y_target in zip(X, y01):                        # evaluate batch loss\n",
    "        output = model2(Tensor(x)).reshape(1, 2)           # forward pass\n",
    "        loss += f_loss(output, Tensor([y_target]).long())\n",
    "    loss.backward()                                        # backward pass\n",
    "    print(loss.item())                                     # print loss\n",
    "    return loss\n",
    "\n",
    "# run optimizer\n",
    "optimizer.step(closure)\n",
    "optimizer.step(closure)"
   ]
  },
  {
   "cell_type": "code",
   "execution_count": 23,
   "metadata": {},
   "outputs": [
    {
     "name": "stdout",
     "output_type": "stream",
     "text": [
      "Accuracy: 0.86\n"
     ]
    }
   ],
   "source": [
    "# traning model accuracy\n",
    "y_predict = []\n",
    "for x in X:\n",
    "    output = model2(Tensor(x))\n",
    "    y_predict += [np.argmax(output.detach().numpy())]\n",
    "\n",
    "print('Accuracy:', sum(y_predict == np.array(y01))/len(np.array(y01)))"
   ]
  },
  {
   "cell_type": "markdown",
   "metadata": {},
   "source": [
    "# TestModel2"
   ]
  },
  {
   "cell_type": "code",
   "execution_count": 24,
   "metadata": {},
   "outputs": [
    {
     "name": "stdout",
     "output_type": "stream",
     "text": [
      "Accuracy25data: 0.8\n",
      "Accuracy50data: 0.74\n"
     ]
    }
   ],
   "source": [
    "target_o = [1 for i in range(25)]+[0 for i in range(25)]\n",
    "\n",
    "pathY=r'../dataset/Original/galaxy1/'\n",
    "pathN=r'../dataset/Original/no-galaxy1/'\n",
    "nameN=''\n",
    "nameY=''\n",
    "inputY=[imageResize(callImage(i+1,pathY,nameY),16) for i in range(25)]\n",
    "inputN=[imageResize(callImage(i+1,pathN,nameN),16) for i in range(25)]\n",
    "input_combine = inputY+inputN\n",
    "\n",
    "np.random.seed(0)\n",
    "idx=np.array([int(i) for i in range(50)]).flatten()\n",
    "\n",
    "np.random.shuffle(idx)\n",
    "\n",
    "dataInput = list(input_combine[i] for i in idx )\n",
    "dataTarget = list( imageBinarize(input_combine[i]) for i in idx )\n",
    "\n",
    "data_target_o=list( target_o[i] for i in idx )\n",
    "\n",
    "Xtest= [normlaizeData(dataInput[i].flatten()) for i in range(25)]\n",
    "y01test= [data_target_o[i] for i in range(25)]\n",
    "\n",
    "Xtest1= [normlaizeData(dataInput[i].flatten()) for i in range(50)]\n",
    "y01test1= [data_target_o[i] for i in range(50)]\n",
    "\n",
    "y_predict = []\n",
    "for x in Xtest:\n",
    "    output = model2(Tensor(x))\n",
    "    y_predict += [np.argmax(output.detach().numpy())]\n",
    "\n",
    "print('Accuracy25data:', sum(y_predict == np.array(y01test))/len(np.array(y01test)))\n",
    "\n",
    "y_predict1 = []\n",
    "for x in Xtest1:\n",
    "    output = model2(Tensor(x))\n",
    "    y_predict1 += [np.argmax(output.detach().numpy())]\n",
    "\n",
    "print('Accuracy50data:', sum(y_predict1 == np.array(y01test1))/len(np.array(y01test1)))"
   ]
  },
  {
   "cell_type": "code",
   "execution_count": null,
   "metadata": {},
   "outputs": [],
   "source": []
  }
 ],
 "metadata": {
  "kernelspec": {
   "display_name": "Python 3",
   "language": "python",
   "name": "python3"
  },
  "language_info": {
   "codemirror_mode": {
    "name": "ipython",
    "version": 3
   },
   "file_extension": ".py",
   "mimetype": "text/x-python",
   "name": "python",
   "nbconvert_exporter": "python",
   "pygments_lexer": "ipython3",
   "version": "3.8.20"
  }
 },
 "nbformat": 4,
 "nbformat_minor": 4
}
